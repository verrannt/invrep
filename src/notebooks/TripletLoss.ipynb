{
 "cells": [
  {
   "cell_type": "code",
   "execution_count": 1,
   "metadata": {},
   "outputs": [],
   "source": [
    "import sys\n",
    "import matplotlib.pyplot as plt\n",
    "import numpy as np\n",
    "import tensorflow as tf\n",
    "import tensorflow_addons as tfa\n",
    "\n",
    "# Add parent directory to path to \n",
    "# allow imports of custom modules\n",
    "if not '..' in sys.path:\n",
    "    sys.path.append('..')\n",
    "from utils.data.gen import get_toy_dataset"
   ]
  },
  {
   "cell_type": "code",
   "execution_count": 46,
   "metadata": {},
   "outputs": [
    {
     "data": {
      "text/plain": [
       "((100, 2), (100,))"
      ]
     },
     "execution_count": 46,
     "metadata": {},
     "output_type": "execute_result"
    },
    {
     "data": {
      "image/png": "[encoded data removed]",
      "text/plain": [
       "<Figure size 432x288 with 1 Axes>"
      ]
     },
     "metadata": {
      "needs_background": "light"
     },
     "output_type": "display_data"
    }
   ],
   "source": [
    "X, y = get_toy_dataset('moons', n_samples=100)\n",
    "plt.scatter(X[:,0], X[:,1], c=y)\n",
    "X.shape, y.shape"
   ]
  },
  {
   "cell_type": "code",
   "execution_count": 47,
   "metadata": {},
   "outputs": [],
   "source": [
    "X = tf.convert_to_tensor(X, dtype=tf.double)\n",
    "y = tf.convert_to_tensor(y, dtype=tf.double)"
   ]
  },
  {
   "cell_type": "code",
   "execution_count": 16,
   "metadata": {
    "jupyter": {
     "source_hidden": true
    }
   },
   "outputs": [],
   "source": [
    "#pdist_matrix = pairwise_distance(X, squared=True)\n",
    "# Reshape label tensor to [batch_size, 1].\n",
    "lshape = tf.shape(y)\n",
    "y = tf.reshape(y, [lshape[0], 1])\n",
    "adjacency = tf.math.equal(y, tf.transpose(y))\n",
    "adjacency_not = tf.math.logical_not(adjacency)\n",
    "adjacency_not = tf.cast(adjacency_not, dtype=tf.dtypes.float32)"
   ]
  },
  {
   "cell_type": "code",
   "execution_count": 31,
   "metadata": {},
   "outputs": [],
   "source": [
    "def pairwise_distance(feature, squared=False):\n",
    "    \"\"\"Computes the pairwise distance matrix with numerical stability.\n",
    "    output[i, j] = || feature[i, :] - feature[j, :] ||_2\n",
    "    Args:\n",
    "      feature: 2-D Tensor of size [number of data, feature dimension].\n",
    "      squared: Boolean, whether or not to square the pairwise distances.\n",
    "    Returns:\n",
    "      pairwise_distances: 2-D Tensor of size [number of data, number of data].\n",
    "    \"\"\"\n",
    "    pairwise_distances_squared = tf.math.add(\n",
    "        tf.math.reduce_sum(tf.math.square(feature), axis=[1], keepdims=True),\n",
    "        tf.math.reduce_sum(\n",
    "            tf.math.square(tf.transpose(feature)), axis=[0], keepdims=True\n",
    "        ),\n",
    "    ) - 2.0 * tf.matmul(feature, tf.transpose(feature))\n",
    "\n",
    "    return pairwise_distances_squared\n",
    "    \n",
    "    # Deal with numerical inaccuracies. Set small negatives to zero.\n",
    "    pairwise_distances_squared = tf.math.maximum(pairwise_distances_squared, 0.0)\n",
    "    # Get the mask where the zero distances are at.\n",
    "    error_mask = tf.math.less_equal(pairwise_distances_squared, 0.0)\n",
    "\n",
    "    # Optionally take the sqrt.\n",
    "    if squared:\n",
    "        pairwise_distances = pairwise_distances_squared\n",
    "    else:\n",
    "        pairwise_distances = tf.math.sqrt(\n",
    "            pairwise_distances_squared\n",
    "            + tf.cast(error_mask, dtype=tf.dtypes.float32) * 1e-16\n",
    "        )\n",
    "\n",
    "    # Undo conditionally adding 1e-16.\n",
    "    pairwise_distances = tf.math.multiply(\n",
    "        pairwise_distances,\n",
    "        tf.cast(tf.math.logical_not(error_mask), dtype=tf.dtypes.float32),\n",
    "    )\n",
    "\n",
    "    num_data = tf.shape(feature)[0]\n",
    "    # Explicitly set diagonals to zero.\n",
    "    mask_offdiagonals = tf.ones_like(pairwise_distances) - tf.linalg.diag(\n",
    "        tf.ones([num_data])\n",
    "    )\n",
    "    pairwise_distances = tf.math.multiply(pairwise_distances, mask_offdiagonals)\n",
    "    return pairwise_distances"
   ]
  },
  {
   "cell_type": "code",
   "execution_count": 120,
   "metadata": {},
   "outputs": [],
   "source": [
    "def _masked_maximum(data, mask, dim=1):\n",
    "    \"\"\"Computes the axis wise maximum over chosen elements.\n",
    "    Args:\n",
    "      data: 2-D float `Tensor` of size [n, m].\n",
    "      mask: 2-D Boolean `Tensor` of size [n, m].\n",
    "      dim: The dimension over which to compute the maximum.\n",
    "    Returns:\n",
    "      masked_maximums: N-D `Tensor`.\n",
    "        The maximized dimension is of size 1 after the operation.\n",
    "    \"\"\"\n",
    "    axis_minimums = tf.math.reduce_min(data, dim, keepdims=True)\n",
    "    masked_maximums = (\n",
    "        tf.math.reduce_max(\n",
    "            tf.math.multiply(data - axis_minimums, mask), dim, keepdims=True\n",
    "        )\n",
    "        + axis_minimums\n",
    "    )\n",
    "    return masked_maximums"
   ]
  },
  {
   "cell_type": "code",
   "execution_count": 125,
   "metadata": {},
   "outputs": [],
   "source": [
    "def _masked_minimum(data, mask, dim=1):\n",
    "    \"\"\"Computes the axis wise minimum over chosen elements.\n",
    "    Args:\n",
    "      data: 2-D float `Tensor` of size [n, m].\n",
    "      mask: 2-D Boolean `Tensor` of size [n, m].\n",
    "      dim: The dimension over which to compute the minimum.\n",
    "    Returns:\n",
    "      masked_minimums: N-D `Tensor`.\n",
    "        The minimized dimension is of size 1 after the operation.\n",
    "    \"\"\"\n",
    "    axis_maximums = tf.math.reduce_max(data, dim, keepdims=True)\n",
    "    masked_minimums = (\n",
    "        tf.math.reduce_min(\n",
    "            tf.math.multiply(data - axis_maximums, mask), dim, keepdims=True\n",
    "        )\n",
    "        + axis_maximums\n",
    "    )\n",
    "    return masked_minimums"
   ]
  },
  {
   "cell_type": "code",
   "execution_count": 126,
   "metadata": {},
   "outputs": [],
   "source": [
    "def triplet_hard_loss(y_true, y_pred, margin = 1.0, soft = False):\n",
    "    \"\"\"Computes the triplet loss with hard negative and hard positive mining.\n",
    "    Args:\n",
    "      y_true: 1-D integer `Tensor` with shape [batch_size] of\n",
    "        multiclass integer labels.\n",
    "      y_pred: 2-D float `Tensor` of embedding vectors. Embeddings should\n",
    "        be l2 normalized.\n",
    "      margin: Float, margin term in the loss definition.\n",
    "      soft: Boolean, if set, use the soft margin version.\n",
    "    \"\"\"\n",
    "    labels, embeddings = y_true, y_pred\n",
    "    \n",
    "    print(labels.shape, embeddings.shape)\n",
    "    \n",
    "    # Reshape label tensor to [batch_size, 1].\n",
    "    lshape = tf.shape(labels)\n",
    "    labels = tf.reshape(labels, [lshape[0], 1])\n",
    "\n",
    "    # Build pairwise squared distance matrix.\n",
    "    pdist_matrix = pairwise_distance(embeddings, squared=True)\n",
    "    # Build pairwise binary adjacency matrix.\n",
    "    adjacency = tf.math.equal(labels, tf.transpose(labels))\n",
    "    # Invert so we can select negatives only.\n",
    "    adjacency_not = tf.math.logical_not(adjacency)\n",
    "    \n",
    "    # Cast\n",
    "    pdist_matrix = tf.cast(pdist_matrix, dtype=tf.dtypes.float32)\n",
    "    adjacency = tf.cast(adjacency, dtype=tf.dtypes.float32)\n",
    "    adjacency_not = tf.cast(adjacency_not, dtype=tf.dtypes.float32)\n",
    "    \n",
    "    # hard negatives: smallest D_an.\n",
    "    hard_negatives = _masked_minimum(pdist_matrix, adjacency_not)\n",
    "\n",
    "    batch_size = tf.size(labels)\n",
    "    mask_positives = adjacency - tf.linalg.diag(tf.ones([batch_size]))\n",
    "\n",
    "    # hard positives: largest D_ap.\n",
    "    hard_positives = _masked_maximum(pdist_matrix, mask_positives)\n",
    "\n",
    "    if soft:\n",
    "        triplet_loss = tf.math.log1p(tf.math.exp(hard_positives - hard_negatives))\n",
    "    else:\n",
    "        triplet_loss = tf.maximum(hard_positives - hard_negatives + margin, 0.0)\n",
    "\n",
    "    # Get final mean triplet loss\n",
    "    triplet_loss = tf.reduce_mean(triplet_loss)\n",
    "\n",
    "    return triplet_loss"
   ]
  },
  {
   "cell_type": "code",
   "execution_count": 127,
   "metadata": {},
   "outputs": [
    {
     "name": "stdout",
     "output_type": "stream",
     "text": [
      "(100,) (100, 2)\n"
     ]
    },
    {
     "data": {
      "text/plain": [
       "<tf.Tensor: shape=(), dtype=float32, numpy=3.8743985>"
      ]
     },
     "execution_count": 127,
     "metadata": {},
     "output_type": "execute_result"
    }
   ],
   "source": [
    "triplet_hard_loss(y_true=y, y_pred=X)"
   ]
  },
  {
   "cell_type": "code",
   "execution_count": null,
   "metadata": {},
   "outputs": [],
   "source": []
  }
 ],
 "metadata": {
  "kernelspec": {
   "display_name": "Python 3.6.9 64-bit ('scienv': virtualenv)",
   "language": "python",
   "name": "python36964bitscienvvirtualenv22453cb43ae94fefb53ce7cc8660589f"
  },
  "language_info": {
   "codemirror_mode": {
    "name": "ipython",
    "version": 3
   },
   "file_extension": ".py",
   "mimetype": "text/x-python",
   "name": "python",
   "nbconvert_exporter": "python",
   "pygments_lexer": "ipython3",
   "version": "3.6.9"
  }
 },
 "nbformat": 4,
 "nbformat_minor": 4
}
